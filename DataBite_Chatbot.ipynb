{
  "nbformat": 4,
  "nbformat_minor": 0,
  "metadata": {
    "colab": {
      "provenance": []
    },
    "kernelspec": {
      "name": "python3",
      "display_name": "Python 3"
    },
    "language_info": {
      "name": "python"
    }
  },
  "cells": [
    {
      "cell_type": "markdown",
      "source": [
        "**Building Data Democratization ChatBot to answer Data Science Questions within 100 words**"
      ],
      "metadata": {
        "id": "vFWw8VHLkXgo"
      }
    },
    {
      "cell_type": "markdown",
      "source": [],
      "metadata": {
        "id": "7_EYeqH43UNf"
      }
    },
    {
      "cell_type": "markdown",
      "source": [
        "Install fuzzywuzzy, huggingface_hub"
      ],
      "metadata": {
        "id": "MrGlM2WzkZzI"
      }
    },
    {
      "cell_type": "code",
      "execution_count": null,
      "metadata": {
        "colab": {
          "base_uri": "https://localhost:8080/"
        },
        "id": "gwJQuPHbkWFd",
        "outputId": "58c2982b-caf7-40b8-8c72-59752d5968e9"
      },
      "outputs": [
        {
          "output_type": "stream",
          "name": "stdout",
          "text": [
            "Requirement already satisfied: huggingface_hub in /usr/local/lib/python3.11/dist-packages (0.33.4)\n",
            "Collecting fuzzywuzzy\n",
            "  Downloading fuzzywuzzy-0.18.0-py2.py3-none-any.whl.metadata (4.9 kB)\n",
            "Collecting python-Levenshtein\n",
            "  Downloading python_levenshtein-0.27.1-py3-none-any.whl.metadata (3.7 kB)\n",
            "Requirement already satisfied: filelock in /usr/local/lib/python3.11/dist-packages (from huggingface_hub) (3.18.0)\n",
            "Requirement already satisfied: fsspec>=2023.5.0 in /usr/local/lib/python3.11/dist-packages (from huggingface_hub) (2025.7.0)\n",
            "Requirement already satisfied: packaging>=20.9 in /usr/local/lib/python3.11/dist-packages (from huggingface_hub) (25.0)\n",
            "Requirement already satisfied: pyyaml>=5.1 in /usr/local/lib/python3.11/dist-packages (from huggingface_hub) (6.0.2)\n",
            "Requirement already satisfied: requests in /usr/local/lib/python3.11/dist-packages (from huggingface_hub) (2.32.3)\n",
            "Requirement already satisfied: tqdm>=4.42.1 in /usr/local/lib/python3.11/dist-packages (from huggingface_hub) (4.67.1)\n",
            "Requirement already satisfied: typing-extensions>=3.7.4.3 in /usr/local/lib/python3.11/dist-packages (from huggingface_hub) (4.14.1)\n",
            "Requirement already satisfied: hf-xet<2.0.0,>=1.1.2 in /usr/local/lib/python3.11/dist-packages (from huggingface_hub) (1.1.5)\n",
            "Collecting Levenshtein==0.27.1 (from python-Levenshtein)\n",
            "  Downloading levenshtein-0.27.1-cp311-cp311-manylinux_2_17_x86_64.manylinux2014_x86_64.whl.metadata (3.6 kB)\n",
            "Collecting rapidfuzz<4.0.0,>=3.9.0 (from Levenshtein==0.27.1->python-Levenshtein)\n",
            "  Downloading rapidfuzz-3.13.0-cp311-cp311-manylinux_2_17_x86_64.manylinux2014_x86_64.whl.metadata (12 kB)\n",
            "Requirement already satisfied: charset-normalizer<4,>=2 in /usr/local/lib/python3.11/dist-packages (from requests->huggingface_hub) (3.4.2)\n",
            "Requirement already satisfied: idna<4,>=2.5 in /usr/local/lib/python3.11/dist-packages (from requests->huggingface_hub) (3.10)\n",
            "Requirement already satisfied: urllib3<3,>=1.21.1 in /usr/local/lib/python3.11/dist-packages (from requests->huggingface_hub) (2.5.0)\n",
            "Requirement already satisfied: certifi>=2017.4.17 in /usr/local/lib/python3.11/dist-packages (from requests->huggingface_hub) (2025.7.14)\n",
            "Downloading fuzzywuzzy-0.18.0-py2.py3-none-any.whl (18 kB)\n",
            "Downloading python_levenshtein-0.27.1-py3-none-any.whl (9.4 kB)\n",
            "Downloading levenshtein-0.27.1-cp311-cp311-manylinux_2_17_x86_64.manylinux2014_x86_64.whl (161 kB)\n",
            "\u001b[2K   \u001b[90m━━━━━━━━━━━━━━━━━━━━━━━━━━━━━━━━━━━━━━━━\u001b[0m \u001b[32m161.7/161.7 kB\u001b[0m \u001b[31m8.0 MB/s\u001b[0m eta \u001b[36m0:00:00\u001b[0m\n",
            "\u001b[?25hDownloading rapidfuzz-3.13.0-cp311-cp311-manylinux_2_17_x86_64.manylinux2014_x86_64.whl (3.1 MB)\n",
            "\u001b[2K   \u001b[90m━━━━━━━━━━━━━━━━━━━━━━━━━━━━━━━━━━━━━━━━\u001b[0m \u001b[32m3.1/3.1 MB\u001b[0m \u001b[31m70.6 MB/s\u001b[0m eta \u001b[36m0:00:00\u001b[0m\n",
            "\u001b[?25hInstalling collected packages: fuzzywuzzy, rapidfuzz, Levenshtein, python-Levenshtein\n",
            "Successfully installed Levenshtein-0.27.1 fuzzywuzzy-0.18.0 python-Levenshtein-0.27.1 rapidfuzz-3.13.0\n"
          ]
        }
      ],
      "source": [
        "!pip install huggingface_hub fuzzywuzzy python-Levenshtein"
      ]
    },
    {
      "cell_type": "markdown",
      "source": [],
      "metadata": {
        "id": "SV9QBrRMkpHc"
      }
    },
    {
      "cell_type": "code",
      "source": [
        "import json\n",
        "from fuzzywuzzy import fuzz\n",
        "from huggingface_hub import InferenceClient\n",
        "from google.colab import userdata\n",
        "import sys\n",
        "\n",
        "# Initialize Hugging Face client\n",
        "client = InferenceClient(api_key=userdata.get('HF_TOKEN'))  # Replace with your API key\n",
        "\n",
        "# Knowledge base as a JSON-like dictionary\n",
        "knowledge_base = {\n",
        "    \"What is credit risk?\": \"Credit risk is when someone might not pay back a loan, so the bank could lose money. It’s like lending your toy and not getting it back. Banks use math to guess if someone is risky.\",\n",
        "    \"What is data democratization?\": \"Data democratization means everyone can use data to make choices; it's like turning a complicated chemistry lab into a fun, safe kitchen where everyone can cook. It helps people understand numbers without being experts.\",\n",
        "    \"What is an algorithm?\": \"An algorithm is like a recipe or step-by-step instructions for solving a problem! Just like following steps to bake cookies, computers follow algorithms to complete tasks.\"\n",
        "}\n",
        "\n",
        "# Topic keywords\n",
        "relevant_keywords = [\n",
        "    \"data\", \"science\", \"analytics\", \"risk\", \"credit\", \"model\", \"modeling\",\n",
        "    \"geospatial\", \"data democratization\", \"predictive\", \"machine learning\", \"statistics\",\n",
        "    \"lake\", \"llm\", \"large language model\", \"fraud\", \"forecasting\", \"financial\"\n",
        "]\n",
        "\n",
        "\n",
        "def is_on_topic(user_input):\n",
        "    \"\"\"Check if the input contains relevant keywords.\"\"\"\n",
        "    user_input_lower = user_input.lower()\n",
        "    return any(keyword in user_input_lower for keyword in relevant_keywords)\n",
        "\n",
        "\n",
        "def find_closest_question(user_input):\n",
        "    \"\"\"Find the closest matching question in the knowledge base.\"\"\"\n",
        "    best_match = None\n",
        "    highest_score = 0\n",
        "    for question in knowledge_base:\n",
        "        score = fuzz.partial_ratio(user_input.lower(), question.lower())\n",
        "        if score > highest_score and score > 85:  # Threshold for match\n",
        "            highest_score = score\n",
        "            best_match = question\n",
        "    return best_match\n",
        "\n",
        "\n",
        "def get_llm_answer(user_input):\n",
        "    \"\"\"Get answer from Hugging Face API with child-friendly prompt.\"\"\"\n",
        "    prompt = f\"Explain {user_input} in 100 words or less, like you're talking to a 10-year-old, in the context of data science or analytics. Keep it simple and clear.\"\n",
        "    try:\n",
        "        response = client.chat_completion(\n",
        "            messages=[{\"role\": \"user\", \"content\": prompt}],\n",
        "            model=\"mistralai/Mixtral-8x7B-Instruct-v0.1\",\n",
        "            max_tokens=150,  # ~100 words\n",
        "            temperature=0.7\n",
        "        )\n",
        "        return response.choices[0].message.content.strip()\n",
        "    except Exception as e:\n",
        "        return f\"Sorry, I couldn't get an answer right now: {str(e)}\"\n",
        "\n",
        "\n"
      ],
      "metadata": {
        "id": "pLo-zpISkW_2"
      },
      "execution_count": null,
      "outputs": []
    },
    {
      "cell_type": "code",
      "source": [
        "# Test with single input\n",
        "user_input = \"What is data science?\"  # Try different questions\n",
        "if not is_on_topic(user_input):\n",
        "    print(\"Answer: This is out of my domain.\")\n",
        "else:\n",
        "    closest_question = find_closest_question(user_input)\n",
        "    if closest_question:\n",
        "        print(\"Answer:\", knowledge_base[closest_question])\n",
        "    else:\n",
        "        print(\"Answer:\", get_llm_answer(user_input))"
      ],
      "metadata": {
        "colab": {
          "base_uri": "https://localhost:8080/"
        },
        "id": "3o05GrbR26it",
        "outputId": "efdaf66f-5bbd-4813-d1db-84d6c07675b2"
      },
      "execution_count": null,
      "outputs": [
        {
          "output_type": "stream",
          "name": "stdout",
          "text": [
            "Answer: Data science is like being a detective with data! You use special tools and skills to find hidden treasures in information. By cleaning, organizing, and exploring data, you can help answer big questions and even make predictions about the future. It's like solving puzzles to tell stories and make the world a better place.\n"
          ]
        }
      ]
    },
    {
      "cell_type": "code",
      "source": [
        "# Test with single input\n",
        "user_input = \"What is data lake?\"  # Try different questions\n",
        "if not is_on_topic(user_input):\n",
        "    print(\"Answer: This is out of my domain.\")\n",
        "else:\n",
        "    closest_question = find_closest_question(user_input)\n",
        "    if closest_question:\n",
        "        print(\"Answer:\", knowledge_base[closest_question])\n",
        "    else:\n",
        "        print(\"Answer:\", get_llm_answer(user_input))"
      ],
      "metadata": {
        "colab": {
          "base_uri": "https://localhost:8080/"
        },
        "id": "mXbTo-e_3dEg",
        "outputId": "28713090-1d24-4e7c-e873-1fd3f977b199"
      },
      "execution_count": null,
      "outputs": [
        {
          "output_type": "stream",
          "name": "stdout",
          "text": [
            "Answer: A data lake is like a big, super-organized swimming pool for information. It stores all kinds of data, like numbers, words, and pictures, in one place. Just like how a lake is filled with water from many different sources, a data lake collects data from various places, like websites, apps, and machines. This way, it's easier for people to find, use, and learn from the data to make better decisions, just like how we can use water from a lake for many things, like drinking, swimming, and irrigating fields.\n"
          ]
        }
      ]
    },
    {
      "cell_type": "code",
      "source": [
        "# Test with single input\n",
        "user_input = \"What is LLM?\"  # Try different questions\n",
        "if not is_on_topic(user_input):\n",
        "    print(\"Answer: This is out of my domain.\")\n",
        "else:\n",
        "    closest_question = find_closest_question(user_input)\n",
        "    if closest_question:\n",
        "        print(\"Answer:\", knowledge_base[closest_question])\n",
        "    else:\n",
        "        print(\"Answer:\", get_llm_answer(user_input))"
      ],
      "metadata": {
        "colab": {
          "base_uri": "https://localhost:8080/"
        },
        "id": "fSG8yqWlwpcl",
        "outputId": "73587eb0-378e-47cc-9010-250fffb4f3c0"
      },
      "execution_count": null,
      "outputs": [
        {
          "output_type": "stream",
          "name": "stdout",
          "text": [
            "Answer: An LLM is like a master's degree in a specific area of law. In the context of data science or analytics, an LLM in Law and Technology or Intellectual Property could help you understand the legal rules around using data and creating new technology. This can be important for protecting your ideas and making sure you're following the law when working with data. It's like having a special toolbox for handling legal issues in data science!\n"
          ]
        }
      ]
    },
    {
      "cell_type": "code",
      "source": [
        "# Test with single input\n",
        "user_input = \"What is Feline Cognitive Dysfunction? I'm suspecting my cat has it.\"  # Try different questions\n",
        "if not is_on_topic(user_input):\n",
        "    print(\"Answer: This is out of my domain.\")\n",
        "else:\n",
        "    closest_question = find_closest_question(user_input)\n",
        "    if closest_question:\n",
        "        print(\"Answer:\", knowledge_base[closest_question])\n",
        "    else:\n",
        "        print(\"Answer:\", get_llm_answer(user_input))"
      ],
      "metadata": {
        "colab": {
          "base_uri": "https://localhost:8080/"
        },
        "id": "E-0nrLAc6S4P",
        "outputId": "dbcb7c97-cfa9-462f-b767-c04ee03eeffc"
      },
      "execution_count": null,
      "outputs": [
        {
          "output_type": "stream",
          "name": "stdout",
          "text": [
            "Answer: This is out of my domain.\n"
          ]
        }
      ]
    },
    {
      "cell_type": "code",
      "source": [
        "def chatbot():\n",
        "    \"\"\"Run the chatbot in the console.\"\"\"\n",
        "    print(\"Welcome to the DataBite Chatbot! Ask anything about data science or risk analytics (type 'exit' to quit).\")\n",
        "    while True:\n",
        "        user_input = input(\"Your question: \")\n",
        "        if user_input.lower() == 'exit':\n",
        "            print(\"Goodbye!\")\n",
        "            break\n",
        "        closest_question = find_closest_question(user_input)\n",
        "        if closest_question:\n",
        "            print(\"Answer:\", knowledge_base[closest_question])\n",
        "        else:\n",
        "            print(\"Answer:\", get_llm_answer(user_input))\n",
        "\n",
        "if __name__ == \"__main__\":\n",
        "    chatbot()"
      ],
      "metadata": {
        "colab": {
          "base_uri": "https://localhost:8080/"
        },
        "id": "SR_-3ph721qI",
        "outputId": "5fc5203d-6d0a-40e9-b510-30524a0afc35"
      },
      "execution_count": null,
      "outputs": [
        {
          "output_type": "stream",
          "name": "stdout",
          "text": [
            "Welcome to the Data Democratization Chatbot! Ask anything about data science or risk analytics (type 'exit' to quit).\n",
            "Your question: Can you tell me what data lake is?\n",
            "Answer: A data lake is like a big swimming pool for information. Just like how a lake collects water from many sources like rivers and rain, a data lake stores data from various places like websites, apps, and machines. This data can be of many types, such as numbers, text, pictures, and more. Once the data is in the lake, it can be cleaned, organized, and used to help adults make better decisions or find answers to important questions.\n",
            "Your question: and what is structured and unstructured data?\n",
            "Answer: Structured data is like data that fits neatly into a spreadsheet with rows and columns, like your name, age, and address. Unstructured data is like data that doesn't fit into a spreadsheet, like a picture, a video, or a bunch of words in a document. Both kinds of data are important and can tell us different things, but unstructured data can be harder to work with because it's not as organized.\n",
            "Your question: So if someone said their data lake only has tables and structured data, is it really a lake or is it a data warehouse?\n",
            "Answer: A data lake is like a big swimming pool where you can store many different types of data, including structured data (like tables) and unstructured data (like text or images). A data warehouse is like a specialized swimming pool just for structured data that has been cleaned and organized in a specific way. So, if someone says their data lake only has tables and structured data, it might actually be more like a data warehouse!\n",
            "Your question: exit\n",
            "Goodbye!\n"
          ]
        }
      ]
    }
  ]
}